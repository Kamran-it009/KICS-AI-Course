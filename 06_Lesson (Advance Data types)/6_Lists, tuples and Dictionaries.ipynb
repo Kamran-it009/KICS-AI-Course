{
 "cells": [
  {
   "cell_type": "markdown",
   "id": "de98a1e0",
   "metadata": {},
   "source": [
    "# String Handling\n"
   ]
  },
  {
   "cell_type": "code",
   "execution_count": 2,
   "id": "c798917b",
   "metadata": {},
   "outputs": [
    {
     "name": "stdout",
     "output_type": "stream",
     "text": [
      "Muhammad Kamran Khan\n"
     ]
    }
   ],
   "source": [
    "name = 'Muhammad Kamran Khan'\n",
    "print(name)"
   ]
  },
  {
   "cell_type": "code",
   "execution_count": 48,
   "id": "865f9d8b",
   "metadata": {},
   "outputs": [
    {
     "name": "stdout",
     "output_type": "stream",
     "text": [
      "28\n"
     ]
    }
   ],
   "source": [
    "age = 28\n",
    "print(age)"
   ]
  },
  {
   "cell_type": "markdown",
   "id": "c841a8ff",
   "metadata": {},
   "source": [
    "* ### String Indexing\n",
    "\n",
    "1. variable_name[index]"
   ]
  },
  {
   "cell_type": "code",
   "execution_count": 3,
   "id": "6d2a3c80",
   "metadata": {},
   "outputs": [
    {
     "name": "stdout",
     "output_type": "stream",
     "text": [
      "K\n"
     ]
    }
   ],
   "source": [
    "name = 'Muhammad Kamran Khan'\n",
    "print(name[9])"
   ]
  },
  {
   "cell_type": "markdown",
   "id": "eb65b801",
   "metadata": {},
   "source": [
    "* ### String Slicing\n",
    "##### variable_name[start: end: step]"
   ]
  },
  {
   "cell_type": "code",
   "execution_count": 4,
   "id": "5a337e89",
   "metadata": {},
   "outputs": [
    {
     "name": "stdout",
     "output_type": "stream",
     "text": [
      "mmad\n"
     ]
    }
   ],
   "source": [
    "# Case no: 1\n",
    "print(name[4:8])"
   ]
  },
  {
   "cell_type": "markdown",
   "id": "41c3159f",
   "metadata": {},
   "source": [
    "* ### String Methods"
   ]
  },
  {
   "cell_type": "code",
   "execution_count": 55,
   "id": "d1601fa6",
   "metadata": {},
   "outputs": [
    {
     "name": "stdout",
     "output_type": "stream",
     "text": [
      "Lenght of string: 20\n"
     ]
    }
   ],
   "source": [
    "# Lenght of String\n",
    "print('Lenght of string:', len(name))"
   ]
  },
  {
   "cell_type": "code",
   "execution_count": 56,
   "id": "2f9ad01e",
   "metadata": {},
   "outputs": [
    {
     "name": "stdout",
     "output_type": "stream",
     "text": [
      "String in uppercase: MUHAMMAD KAMRAN KHAN\n"
     ]
    }
   ],
   "source": [
    "# Upper Case\n",
    "print('String in uppercase:', name.upper())"
   ]
  },
  {
   "cell_type": "code",
   "execution_count": 57,
   "id": "d50190cf",
   "metadata": {},
   "outputs": [
    {
     "name": "stdout",
     "output_type": "stream",
     "text": [
      "String in lowercase: muhammad kamran khan\n"
     ]
    }
   ],
   "source": [
    "# Lower Case\n",
    "print('String in lowercase:',name.lower())"
   ]
  },
  {
   "cell_type": "code",
   "execution_count": 58,
   "id": "ce8fa5c0",
   "metadata": {},
   "outputs": [
    {
     "name": "stdout",
     "output_type": "stream",
     "text": [
      "Splitting string: ['Muhammad', 'Kamran', 'Khan']\n"
     ]
    }
   ],
   "source": [
    "# Splitting\n",
    "words = name.split()\n",
    "print('Splitting string:', words)"
   ]
  },
  {
   "cell_type": "code",
   "execution_count": 59,
   "id": "000ad0ad",
   "metadata": {},
   "outputs": [
    {
     "name": "stdout",
     "output_type": "stream",
     "text": [
      "Joining strings: Muhammad-Kamran-Khan\n"
     ]
    }
   ],
   "source": [
    "# Joining\n",
    "print('Joining strings:', '-'.join(words))"
   ]
  },
  {
   "cell_type": "code",
   "execution_count": 62,
   "id": "a3d67201",
   "metadata": {},
   "outputs": [
    {
     "name": "stdout",
     "output_type": "stream",
     "text": [
      "Find position of text: 9\n"
     ]
    }
   ],
   "source": [
    "# Text Finding\n",
    "print('Find position of text:', name.find('Kamran'))"
   ]
  },
  {
   "cell_type": "code",
   "execution_count": 63,
   "id": "cbf443df",
   "metadata": {},
   "outputs": [
    {
     "name": "stdout",
     "output_type": "stream",
     "text": [
      "Replace string with any other string: Muhammad Kamran Developer\n"
     ]
    }
   ],
   "source": [
    "# Text Replace\n",
    "print('Replace string with any other string:', name.replace('Khan', 'Developer'))"
   ]
  },
  {
   "cell_type": "code",
   "execution_count": 65,
   "id": "77af83ad",
   "metadata": {},
   "outputs": [
    {
     "name": "stdout",
     "output_type": "stream",
     "text": [
      "Check string starts with: True\n"
     ]
    }
   ],
   "source": [
    "# Checking Text Starts With\n",
    "print('Check string starts with:', name.startswith('Muhammad'))"
   ]
  },
  {
   "cell_type": "code",
   "execution_count": 67,
   "id": "02668747",
   "metadata": {},
   "outputs": [
    {
     "name": "stdout",
     "output_type": "stream",
     "text": [
      "Check string ends with: True\n"
     ]
    }
   ],
   "source": [
    "# Checking Text Ends With\n",
    "print('Check string ends with:', name.endswith('Khan'))"
   ]
  },
  {
   "cell_type": "code",
   "execution_count": 68,
   "id": "57d05376",
   "metadata": {},
   "outputs": [
    {
     "name": "stdout",
     "output_type": "stream",
     "text": [
      "Start string from right side:                               Muhammad Kamran Khan\n"
     ]
    }
   ],
   "source": [
    "# Right String Align\n",
    "print('Start string from right side:', name.rjust(50))"
   ]
  },
  {
   "cell_type": "code",
   "execution_count": 69,
   "id": "593ce9e2",
   "metadata": {},
   "outputs": [
    {
     "name": "stdout",
     "output_type": "stream",
     "text": [
      "Start string from left side: Muhammad Kamran Khan                              \n"
     ]
    }
   ],
   "source": [
    "# Left String Align\n",
    "print('Start string from left side:',name.ljust(50))"
   ]
  },
  {
   "cell_type": "code",
   "execution_count": 70,
   "id": "f4ee38ff",
   "metadata": {},
   "outputs": [
    {
     "name": "stdout",
     "output_type": "stream",
     "text": [
      "Start string from center:                Muhammad Kamran Khan               \n"
     ]
    }
   ],
   "source": [
    "# Center String Align\n",
    "print('Start string from center:',name.center(50))"
   ]
  },
  {
   "cell_type": "code",
   "execution_count": 71,
   "id": "3b96887d",
   "metadata": {},
   "outputs": [
    {
     "name": "stdout",
     "output_type": "stream",
     "text": [
      "Print string in reverse position: nahK narmaK dammahuM\n"
     ]
    }
   ],
   "source": [
    "# Reversing a String\n",
    "print('Print string in reverse position:', name[::-1])"
   ]
  },
  {
   "cell_type": "code",
   "execution_count": 73,
   "id": "814ed062",
   "metadata": {},
   "outputs": [
    {
     "name": "stdout",
     "output_type": "stream",
     "text": [
      "Convert string into list: ['M', 'u', 'h', 'a', 'm', 'm', 'a', 'd', ' ', 'K', 'a', 'm', 'r', 'a', 'n', ' ', 'K', 'h', 'a', 'n']\n"
     ]
    }
   ],
   "source": [
    "# String To List\n",
    "print('Convert string into list:', list(name))"
   ]
  },
  {
   "cell_type": "code",
   "execution_count": 74,
   "id": "344688c6",
   "metadata": {},
   "outputs": [
    {
     "name": "stdout",
     "output_type": "stream",
     "text": [
      "Check string is present or not: True\n"
     ]
    }
   ],
   "source": [
    "# Checking Substring Presence\n",
    "print('Check string is present or not:', 'Kamran' in name)"
   ]
  },
  {
   "cell_type": "code",
   "execution_count": 49,
   "id": "fb878f32",
   "metadata": {},
   "outputs": [
    {
     "name": "stdout",
     "output_type": "stream",
     "text": [
      "My name is Muhammad Kamran Khan and I am 28 years old.\n"
     ]
    }
   ],
   "source": [
    "# String Formatting Style 1\n",
    "print(\"My name is %s and I am %d years old.\" % (name, age))"
   ]
  },
  {
   "cell_type": "code",
   "execution_count": 50,
   "id": "96a60cd9",
   "metadata": {},
   "outputs": [
    {
     "name": "stdout",
     "output_type": "stream",
     "text": [
      "My name is Muhammad Kamran Khan and I am 28 years old.\n"
     ]
    }
   ],
   "source": [
    "# String Formatting Style 2\n",
    "print(\"My name is {} and I am {} years old.\".format(name, age))"
   ]
  },
  {
   "cell_type": "code",
   "execution_count": 75,
   "id": "bd0afd28",
   "metadata": {},
   "outputs": [
    {
     "name": "stdout",
     "output_type": "stream",
     "text": [
      "Escape characters: He said, \"Python is great!\"\n"
     ]
    }
   ],
   "source": [
    "# Escaping Characters\n",
    "text = \"He said, \\\"Python is great!\\\"\"  \n",
    "print('Escape characters:', text)\n"
   ]
  },
  {
   "cell_type": "code",
   "execution_count": 77,
   "id": "7a6768bd",
   "metadata": {},
   "outputs": [
    {
     "name": "stdout",
     "output_type": "stream",
     "text": [
      "Checking strings are equal or not: False\n",
      "Checking string is less than other string: True\n"
     ]
    }
   ],
   "source": [
    "# string Comparision\n",
    "str1 = \"apple\"\n",
    "str2 = \"banana\"\n",
    "is_equal = str1 == str2  \n",
    "print(\"Checking strings are equal or not:\", is_equal)\n",
    "is_less = str1 < str2\n",
    "print(\"Checking string is less than other string:\", is_less)  \n"
   ]
  },
  {
   "cell_type": "markdown",
   "id": "8387afea",
   "metadata": {},
   "source": [
    "# List\n"
   ]
  },
  {
   "cell_type": "code",
   "execution_count": 5,
   "id": "1e886c3a",
   "metadata": {},
   "outputs": [
    {
     "name": "stdout",
     "output_type": "stream",
     "text": [
      "['apple', 'banana', 'cherry', 'mango', 'orange', 'almod', 'melon']\n"
     ]
    }
   ],
   "source": [
    "#Defining and printing\n",
    "fruits = ['apple', 'banana', 'cherry', 'mango', 'orange', 'almod', 'melon']\n",
    "print(fruits)"
   ]
  },
  {
   "cell_type": "markdown",
   "id": "321b70b9",
   "metadata": {},
   "source": [
    "### 1. Indexing"
   ]
  },
  {
   "cell_type": "code",
   "execution_count": 7,
   "id": "2cac954b",
   "metadata": {},
   "outputs": [
    {
     "data": {
      "text/plain": [
       "'banana'"
      ]
     },
     "execution_count": 7,
     "metadata": {},
     "output_type": "execute_result"
    }
   ],
   "source": [
    "fruits[1]"
   ]
  },
  {
   "cell_type": "markdown",
   "id": "69aa4159",
   "metadata": {},
   "source": [
    "### 2. Negative indexing"
   ]
  },
  {
   "cell_type": "code",
   "execution_count": 8,
   "id": "da93bf41",
   "metadata": {},
   "outputs": [
    {
     "data": {
      "text/plain": [
       "'melon'"
      ]
     },
     "execution_count": 8,
     "metadata": {},
     "output_type": "execute_result"
    }
   ],
   "source": [
    "fruits[-1]"
   ]
  },
  {
   "cell_type": "markdown",
   "id": "700a0949",
   "metadata": {},
   "source": [
    "### 3. Slicing \n",
    "##### [start(default = 0) : end : step (default = 1)]"
   ]
  },
  {
   "cell_type": "code",
   "execution_count": 9,
   "id": "57701e10",
   "metadata": {},
   "outputs": [
    {
     "data": {
      "text/plain": [
       "['cherry', 'mango', 'orange']"
      ]
     },
     "execution_count": 9,
     "metadata": {},
     "output_type": "execute_result"
    }
   ],
   "source": [
    "# Case no: 1\n",
    "fruits[2: 5]"
   ]
  },
  {
   "cell_type": "code",
   "execution_count": 10,
   "id": "2460c60d",
   "metadata": {},
   "outputs": [
    {
     "data": {
      "text/plain": [
       "['apple', 'banana', 'cherry', 'mango']"
      ]
     },
     "execution_count": 10,
     "metadata": {},
     "output_type": "execute_result"
    }
   ],
   "source": [
    "# Case no: 2\n",
    "fruits[:4] "
   ]
  },
  {
   "cell_type": "code",
   "execution_count": 11,
   "id": "825e862f",
   "metadata": {},
   "outputs": [
    {
     "data": {
      "text/plain": [
       "['cherry', 'mango', 'orange', 'almod', 'melon']"
      ]
     },
     "execution_count": 11,
     "metadata": {},
     "output_type": "execute_result"
    }
   ],
   "source": [
    "# Case no: 3\n",
    "fruits[2:]"
   ]
  },
  {
   "cell_type": "code",
   "execution_count": 12,
   "id": "ed0304e5",
   "metadata": {},
   "outputs": [
    {
     "data": {
      "text/plain": [
       "['apple', 'cherry', 'orange', 'melon']"
      ]
     },
     "execution_count": 12,
     "metadata": {},
     "output_type": "execute_result"
    }
   ],
   "source": [
    "# Case no: 4\n",
    "fruits[0:7:2]"
   ]
  },
  {
   "cell_type": "code",
   "execution_count": 13,
   "id": "f867d6d5",
   "metadata": {},
   "outputs": [
    {
     "data": {
      "text/plain": [
       "['cherry', 'mango', 'orange']"
      ]
     },
     "execution_count": 13,
     "metadata": {},
     "output_type": "execute_result"
    }
   ],
   "source": [
    "# Case no: 5\n",
    "fruits[-5: -2]"
   ]
  },
  {
   "cell_type": "markdown",
   "id": "db54ff88",
   "metadata": {},
   "source": [
    "### 4. Updating list\n"
   ]
  },
  {
   "cell_type": "markdown",
   "id": "d471e618",
   "metadata": {},
   "source": [
    "##### Case no: 1"
   ]
  },
  {
   "cell_type": "code",
   "execution_count": 17,
   "id": "72856cc6",
   "metadata": {},
   "outputs": [
    {
     "name": "stdout",
     "output_type": "stream",
     "text": [
      "['apple', 'banana', 'Watermelon', 'stawberry', 'Guava', 'almod', 'melon']\n"
     ]
    }
   ],
   "source": [
    "\n",
    "fruits[2] = 'Watermelon'\n",
    "print(fruits)"
   ]
  },
  {
   "cell_type": "markdown",
   "id": "5c5d8c13",
   "metadata": {},
   "source": [
    "##### Case no: 2"
   ]
  },
  {
   "cell_type": "code",
   "execution_count": 18,
   "id": "d29fb347",
   "metadata": {},
   "outputs": [
    {
     "name": "stdout",
     "output_type": "stream",
     "text": [
      "['apple', 'banana', 'cherry', 'stawberry', 'Guava', 'almod', 'melon']\n"
     ]
    }
   ],
   "source": [
    "#Second Update\n",
    "fruits[2: 5] = ['cherry', 'stawberry', 'Guava']\n",
    "print(fruits)"
   ]
  },
  {
   "cell_type": "markdown",
   "id": "a06ba232",
   "metadata": {},
   "source": [
    "### 5. List Manipulation Functions"
   ]
  },
  {
   "cell_type": "code",
   "execution_count": 19,
   "id": "a0eca526",
   "metadata": {},
   "outputs": [
    {
     "name": "stdout",
     "output_type": "stream",
     "text": [
      "['apple', 'grapes', 'banana', 'cherry', 'stawberry', 'Guava', 'almod', 'melon']\n"
     ]
    }
   ],
   "source": [
    "# insert() \n",
    "fruits.insert(1, 'grapes')\n",
    "print(fruits)"
   ]
  },
  {
   "cell_type": "code",
   "execution_count": 20,
   "id": "e4c6195e",
   "metadata": {},
   "outputs": [
    {
     "name": "stdout",
     "output_type": "stream",
     "text": [
      "['apple', 'grapes', 'banana', 'cherry', 'stawberry', 'Guava', 'almod', 'melon', 'lemon']\n"
     ]
    }
   ],
   "source": [
    "# appened() \n",
    "fruits.append('lemon')\n",
    "print(fruits)"
   ]
  },
  {
   "cell_type": "code",
   "execution_count": 21,
   "id": "de84cd3d",
   "metadata": {},
   "outputs": [
    {
     "name": "stdout",
     "output_type": "stream",
     "text": [
      "['Mobile', 'telephone', 'airbods', 'shirts', 'hoddies', 'jeans']\n"
     ]
    }
   ],
   "source": [
    "# extend()\n",
    "\n",
    "product1 = ['Mobile', 'telephone', 'airbods']\n",
    "product2 = ['shirts', 'hoddies', 'jeans']\n",
    "\n",
    "product1.extend(product2)\n",
    "print(product1)"
   ]
  },
  {
   "cell_type": "code",
   "execution_count": 22,
   "id": "3557ee05",
   "metadata": {},
   "outputs": [
    {
     "name": "stdout",
     "output_type": "stream",
     "text": [
      "['apple', 'grapes', 'banana', 'cherry', 'stawberry', 'Guava', 'almod', 'lemon']\n"
     ]
    }
   ],
   "source": [
    "# remove()\n",
    "fruits.remove('melon')\n",
    "print(fruits)"
   ]
  },
  {
   "cell_type": "code",
   "execution_count": 23,
   "id": "931c0459",
   "metadata": {},
   "outputs": [
    {
     "name": "stdout",
     "output_type": "stream",
     "text": [
      "['apple', 'grapes', 'cherry', 'stawberry', 'Guava', 'almod', 'lemon']\n",
      "Removed item:  banana\n"
     ]
    }
   ],
   "source": [
    "# pop()\n",
    "x = fruits.pop(2)\n",
    "print(fruits)\n",
    "print(\"Removed item: \", x)"
   ]
  },
  {
   "cell_type": "markdown",
   "id": "69a9ac20",
   "metadata": {},
   "source": [
    "### 6. Sorting"
   ]
  },
  {
   "cell_type": "code",
   "execution_count": 24,
   "id": "abb68963",
   "metadata": {},
   "outputs": [],
   "source": [
    "fruits = ['guava', 'Strawbery', 'almod', 'apple', 'grapes']"
   ]
  },
  {
   "cell_type": "code",
   "execution_count": 25,
   "id": "1ac3c42f",
   "metadata": {},
   "outputs": [
    {
     "name": "stdout",
     "output_type": "stream",
     "text": [
      "['Strawbery', 'almod', 'apple', 'grapes', 'guava']\n"
     ]
    }
   ],
   "source": [
    "# Case no: 1- sorting \n",
    "fruits.sort()\n",
    "print(fruits)"
   ]
  },
  {
   "cell_type": "code",
   "execution_count": 26,
   "id": "18c1b49a",
   "metadata": {},
   "outputs": [
    {
     "name": "stdout",
     "output_type": "stream",
     "text": [
      "['guava', 'grapes', 'apple', 'almod', 'Strawbery']\n"
     ]
    }
   ],
   "source": [
    "# Case no: 2- sorting in reverse order\n",
    "fruits.sort(reverse=True)\n",
    "print(fruits)"
   ]
  },
  {
   "cell_type": "markdown",
   "id": "38fe1dcf",
   "metadata": {},
   "source": [
    "### 7. List Aliasing"
   ]
  },
  {
   "cell_type": "code",
   "execution_count": 27,
   "id": "b7e95d63",
   "metadata": {},
   "outputs": [],
   "source": [
    "original = fruits\n",
    "fruits.append('melon')"
   ]
  },
  {
   "cell_type": "code",
   "execution_count": 28,
   "id": "586caec7",
   "metadata": {
    "scrolled": true
   },
   "outputs": [
    {
     "name": "stdout",
     "output_type": "stream",
     "text": [
      "['guava', 'grapes', 'apple', 'almod', 'Strawbery', 'melon']\n",
      "['guava', 'grapes', 'apple', 'almod', 'Strawbery', 'melon']\n"
     ]
    }
   ],
   "source": [
    "print(fruits)\n",
    "print(original)"
   ]
  },
  {
   "cell_type": "code",
   "execution_count": 29,
   "id": "9c514881",
   "metadata": {
    "scrolled": false
   },
   "outputs": [
    {
     "name": "stdout",
     "output_type": "stream",
     "text": [
      "['guava', 'grapes', 'apple', 'almod', 'Strawbery', 'melon', 'cherry']\n",
      "['guava', 'grapes', 'apple', 'almod', 'Strawbery', 'melon']\n"
     ]
    }
   ],
   "source": [
    "original2 = fruits.copy()\n",
    "fruits.append('cherry')\n",
    "print(fruits)\n",
    "print(original2)"
   ]
  },
  {
   "cell_type": "markdown",
   "id": "1dc78c68",
   "metadata": {},
   "source": [
    " ### 8. Advance Lists (2D Lists, 3D Lists)"
   ]
  },
  {
   "cell_type": "markdown",
   "id": "c20259d7",
   "metadata": {},
   "source": [
    "#### 1. 2D List"
   ]
  },
  {
   "cell_type": "code",
   "execution_count": 30,
   "id": "30dd8233",
   "metadata": {},
   "outputs": [
    {
     "name": "stdout",
     "output_type": "stream",
     "text": [
      "[['apple', 'banana', 'cherry'], ['Brinjal', 'Potato', 'Radish']]\n"
     ]
    }
   ],
   "source": [
    "# 2D List\n",
    "fruits_veg = [['apple', 'banana', 'cherry'], ['Brinjal', 'Potato', 'Radish']]\n",
    "print(fruits_veg)"
   ]
  },
  {
   "cell_type": "code",
   "execution_count": 31,
   "id": "dec45b30",
   "metadata": {},
   "outputs": [
    {
     "name": "stdout",
     "output_type": "stream",
     "text": [
      "Potato\n",
      "cherry\n"
     ]
    }
   ],
   "source": [
    "# indexing\n",
    "print(fruits_veg[1][1])\n",
    "print(fruits_veg[0][2])"
   ]
  },
  {
   "cell_type": "code",
   "execution_count": 32,
   "id": "aa9eaef7",
   "metadata": {},
   "outputs": [
    {
     "name": "stdout",
     "output_type": "stream",
     "text": [
      "Potato apple\n"
     ]
    }
   ],
   "source": [
    "# Indexing Multiple Elements\n",
    "print(fruits_veg[1][1],fruits_veg[0][0])"
   ]
  },
  {
   "cell_type": "code",
   "execution_count": 33,
   "id": "e64f18c6",
   "metadata": {},
   "outputs": [
    {
     "name": "stdout",
     "output_type": "stream",
     "text": [
      "['Potato', 'Radish']\n"
     ]
    }
   ],
   "source": [
    "# Slicing a Sublist\n",
    "print(fruits_veg[1][1:3])"
   ]
  },
  {
   "cell_type": "code",
   "execution_count": 34,
   "id": "4b3f79af",
   "metadata": {},
   "outputs": [
    {
     "name": "stdout",
     "output_type": "stream",
     "text": [
      "Radish\n"
     ]
    }
   ],
   "source": [
    "# Negative Indexing\n",
    "print(fruits_veg[-1][-1])"
   ]
  },
  {
   "cell_type": "markdown",
   "id": "2258bcd5",
   "metadata": {},
   "source": [
    "#### 2. 3D List"
   ]
  },
  {
   "cell_type": "code",
   "execution_count": 35,
   "id": "d417db74",
   "metadata": {},
   "outputs": [],
   "source": [
    "fruits_veg = [[['apple', 'banana', 'cherry']],\n",
    "               [['Brinjal', 'Potato', 'Radish']]]"
   ]
  },
  {
   "cell_type": "code",
   "execution_count": 36,
   "id": "39ab4dbd",
   "metadata": {},
   "outputs": [
    {
     "name": "stdout",
     "output_type": "stream",
     "text": [
      "[['apple', 'banana', 'cherry']]\n",
      "Radish\n"
     ]
    }
   ],
   "source": [
    "print(fruits_veg[0])\n",
    "print(fruits_veg[1][0][2])"
   ]
  },
  {
   "cell_type": "markdown",
   "id": "5b6aefa1",
   "metadata": {},
   "source": [
    "# Tuples"
   ]
  },
  {
   "cell_type": "code",
   "execution_count": 37,
   "id": "cae1d084",
   "metadata": {},
   "outputs": [
    {
     "name": "stdout",
     "output_type": "stream",
     "text": [
      "('Potato', 'Spinish', 'Carrot', 'Onion', 'Garlic', 'Cabbage')\n"
     ]
    }
   ],
   "source": [
    "# Creating Tuples\n",
    "vegetables = ('Potato', 'Spinish', 'Carrot', 'Onion', 'Garlic', 'Cabbage')\n",
    "print(vegetables)"
   ]
  },
  {
   "cell_type": "markdown",
   "id": "b42cab73",
   "metadata": {},
   "source": [
    "### 1. Indexing"
   ]
  },
  {
   "cell_type": "code",
   "execution_count": 38,
   "id": "ee2347a7",
   "metadata": {},
   "outputs": [
    {
     "data": {
      "text/plain": [
       "'Carrot'"
      ]
     },
     "execution_count": 38,
     "metadata": {},
     "output_type": "execute_result"
    }
   ],
   "source": [
    "vegetables[2]"
   ]
  },
  {
   "cell_type": "markdown",
   "id": "b4788e81",
   "metadata": {},
   "source": [
    "### 2. Negative Indexing"
   ]
  },
  {
   "cell_type": "code",
   "execution_count": 39,
   "id": "cadd0638",
   "metadata": {},
   "outputs": [
    {
     "data": {
      "text/plain": [
       "'Cabbage'"
      ]
     },
     "execution_count": 39,
     "metadata": {},
     "output_type": "execute_result"
    }
   ],
   "source": [
    "vegetables[-1]"
   ]
  },
  {
   "cell_type": "markdown",
   "id": "ef860725",
   "metadata": {},
   "source": [
    "### 3. Slicing"
   ]
  },
  {
   "cell_type": "code",
   "execution_count": 40,
   "id": "9519be24",
   "metadata": {},
   "outputs": [
    {
     "data": {
      "text/plain": [
       "('Carrot', 'Onion', 'Garlic')"
      ]
     },
     "execution_count": 40,
     "metadata": {},
     "output_type": "execute_result"
    }
   ],
   "source": [
    "vegetables[2:5]"
   ]
  },
  {
   "cell_type": "code",
   "execution_count": 41,
   "id": "880c0e1a",
   "metadata": {},
   "outputs": [
    {
     "data": {
      "text/plain": [
       "('Spinish', 'Carrot', 'Onion')"
      ]
     },
     "execution_count": 41,
     "metadata": {},
     "output_type": "execute_result"
    }
   ],
   "source": [
    "# Negative Indexing and Slicing\n",
    "vegetables[-5:-2]"
   ]
  },
  {
   "cell_type": "markdown",
   "id": "6dddbe21",
   "metadata": {},
   "source": [
    "### 4.  Immutable Nature of Tuples"
   ]
  },
  {
   "cell_type": "code",
   "execution_count": 42,
   "id": "a81aef12",
   "metadata": {},
   "outputs": [
    {
     "ename": "TypeError",
     "evalue": "'tuple' object does not support item assignment",
     "output_type": "error",
     "traceback": [
      "\u001b[1;31m---------------------------------------------------------------------------\u001b[0m",
      "\u001b[1;31mTypeError\u001b[0m                                 Traceback (most recent call last)",
      "Cell \u001b[1;32mIn[42], line 2\u001b[0m\n\u001b[0;32m      1\u001b[0m \u001b[38;5;66;03m# Wrong Way\u001b[39;00m\n\u001b[1;32m----> 2\u001b[0m vegetables[\u001b[38;5;241m1\u001b[39m] \u001b[38;5;241m=\u001b[39m \u001b[38;5;124m'\u001b[39m\u001b[38;5;124mRadish\u001b[39m\u001b[38;5;124m'\u001b[39m\n",
      "\u001b[1;31mTypeError\u001b[0m: 'tuple' object does not support item assignment"
     ]
    }
   ],
   "source": [
    "# Wrong Way\n",
    "vegetables[1] = 'Radish'"
   ]
  },
  {
   "cell_type": "code",
   "execution_count": null,
   "id": "3ea4590f",
   "metadata": {},
   "outputs": [],
   "source": [
    "# Right Way\n",
    "veg_list = list(vegetables) \n",
    "veg_list[1] = 'Radish' \n",
    "veg_list.append('Turnip') \n",
    "veg_list[2] = 'Cucumber' \n",
    "vegetables = tuple(veg_list)\n",
    "print(vegetables)"
   ]
  },
  {
   "cell_type": "markdown",
   "id": "bda7f11f",
   "metadata": {},
   "source": [
    "### 5. 2D Tuples"
   ]
  },
  {
   "cell_type": "code",
   "execution_count": 43,
   "id": "d75ec73b",
   "metadata": {},
   "outputs": [
    {
     "name": "stdout",
     "output_type": "stream",
     "text": [
      "(('apple', 'banana', 'cherry'), ('Brinjal', ' Potato', 'Radish'))\n"
     ]
    }
   ],
   "source": [
    "# Declaration\n",
    "fruits_veg = (('apple', 'banana', 'cherry'), ('Brinjal', ' Potato', 'Radish'))\n",
    "print(fruits_veg)"
   ]
  },
  {
   "cell_type": "code",
   "execution_count": 44,
   "id": "0eec5a00",
   "metadata": {},
   "outputs": [
    {
     "name": "stdout",
     "output_type": "stream",
     "text": [
      " Potato\n",
      "cherry\n"
     ]
    }
   ],
   "source": [
    "# Indexing\n",
    "print(fruits_veg[1][1])\n",
    "print(fruits_veg[0][2])"
   ]
  },
  {
   "cell_type": "markdown",
   "id": "374cac49",
   "metadata": {},
   "source": [
    "# Dictionaries"
   ]
  },
  {
   "cell_type": "code",
   "execution_count": 45,
   "id": "7a23c794",
   "metadata": {},
   "outputs": [
    {
     "name": "stdout",
     "output_type": "stream",
     "text": [
      "{'A': 'apple', 'B': 'banana', 'C': 'cherry', 'D': 'Dragon fruits'}\n"
     ]
    }
   ],
   "source": [
    "# Creating a Dictionary\n",
    "fruits_dict = {'A': 'apple', 'B': 'banana', \n",
    "               'C': 'cherry', 'D': 'Dragon fruits'}\n",
    "print(fruits_dict)"
   ]
  },
  {
   "cell_type": "markdown",
   "id": "9e94cc6a",
   "metadata": {},
   "source": [
    "### 1. Item Indexing"
   ]
  },
  {
   "cell_type": "code",
   "execution_count": 46,
   "id": "ddc0f8f8",
   "metadata": {},
   "outputs": [
    {
     "data": {
      "text/plain": [
       "'cherry'"
      ]
     },
     "execution_count": 46,
     "metadata": {},
     "output_type": "execute_result"
    }
   ],
   "source": [
    "fruits_dict['C']"
   ]
  },
  {
   "cell_type": "markdown",
   "id": "2c2d2e7c",
   "metadata": {},
   "source": [
    "### 2. Item Update"
   ]
  },
  {
   "cell_type": "code",
   "execution_count": 47,
   "id": "efebd495",
   "metadata": {},
   "outputs": [
    {
     "name": "stdout",
     "output_type": "stream",
     "text": [
      "{'A': ['Almod', 'Apple'], 'B': 'banana', 'C': 'cherry', 'D': 'Dragon fruits'}\n"
     ]
    }
   ],
   "source": [
    "fruits_dict['A'] = ['Almod', 'Apple']\n",
    "print(fruits_dict)"
   ]
  },
  {
   "cell_type": "markdown",
   "id": "c3244ced",
   "metadata": {},
   "source": [
    "### 3. Accessing"
   ]
  },
  {
   "cell_type": "code",
   "execution_count": 59,
   "id": "8bfeba1e",
   "metadata": {},
   "outputs": [],
   "source": [
    "# Dictionary Initialization\n",
    "students = {'Roll no': [101, 102, 103], 'Name': ['Ali', 'Ahmad', 'Amir']}"
   ]
  },
  {
   "cell_type": "code",
   "execution_count": 60,
   "id": "af9198a5",
   "metadata": {},
   "outputs": [
    {
     "name": "stdout",
     "output_type": "stream",
     "text": [
      "Ahmad\n"
     ]
    }
   ],
   "source": [
    "# Accessing\n",
    "print(students['Name'][1])"
   ]
  },
  {
   "cell_type": "code",
   "execution_count": 61,
   "id": "526cd1bc",
   "metadata": {},
   "outputs": [
    {
     "name": "stdout",
     "output_type": "stream",
     "text": [
      "['Ali', 'Ahmad', 'Amir']\n"
     ]
    }
   ],
   "source": [
    "# Slicing\n",
    "print(students['Name'][:])"
   ]
  },
  {
   "cell_type": "code",
   "execution_count": 62,
   "id": "92bc1fe6",
   "metadata": {},
   "outputs": [
    {
     "name": "stdout",
     "output_type": "stream",
     "text": [
      "{'apple': 0, 'banana': 0, 'cherry': 0}\n"
     ]
    }
   ],
   "source": [
    "sequence = ('apple', 'banana', 'cherry')\n",
    "new_dict = dict.fromkeys(sequence, 0)\n",
    "print(new_dict)"
   ]
  },
  {
   "cell_type": "code",
   "execution_count": 63,
   "id": "8f8b7842",
   "metadata": {},
   "outputs": [
    {
     "data": {
      "text/plain": [
       "[101, 102, 103]"
      ]
     },
     "execution_count": 63,
     "metadata": {},
     "output_type": "execute_result"
    }
   ],
   "source": [
    "# Key-based Accessing\n",
    "students.get('Roll no')"
   ]
  },
  {
   "cell_type": "code",
   "execution_count": 64,
   "id": "6c55b8e5",
   "metadata": {},
   "outputs": [
    {
     "data": {
      "text/plain": [
       "dict_items([('Roll no', [101, 102, 103]), ('Name', ['Ali', 'Ahmad', 'Amir'])])"
      ]
     },
     "execution_count": 64,
     "metadata": {},
     "output_type": "execute_result"
    }
   ],
   "source": [
    "# Accessing Items (keys and Values)\n",
    "students.items()"
   ]
  },
  {
   "cell_type": "code",
   "execution_count": 65,
   "id": "cb0d5353",
   "metadata": {},
   "outputs": [
    {
     "data": {
      "text/plain": [
       "dict_keys(['Roll no', 'Name'])"
      ]
     },
     "execution_count": 65,
     "metadata": {},
     "output_type": "execute_result"
    }
   ],
   "source": [
    "# Accessing Keys only \n",
    "students.keys()"
   ]
  },
  {
   "cell_type": "markdown",
   "id": "9047e2a1",
   "metadata": {},
   "source": [
    "### 5. POP Operations"
   ]
  },
  {
   "cell_type": "code",
   "execution_count": 66,
   "id": "34fefcb1",
   "metadata": {},
   "outputs": [
    {
     "data": {
      "text/plain": [
       "['Ali', 'Ahmad', 'Amir']"
      ]
     },
     "execution_count": 66,
     "metadata": {},
     "output_type": "execute_result"
    }
   ],
   "source": [
    "# Key based POP\n",
    "students.pop('Name')"
   ]
  },
  {
   "cell_type": "code",
   "execution_count": 67,
   "id": "b03fb1a5",
   "metadata": {},
   "outputs": [
    {
     "data": {
      "text/plain": [
       "('Roll no', [101, 102, 103])"
      ]
     },
     "execution_count": 67,
     "metadata": {},
     "output_type": "execute_result"
    }
   ],
   "source": [
    "# Arbitrary POP\n",
    "students.popitem()"
   ]
  },
  {
   "cell_type": "markdown",
   "id": "d8b155f3",
   "metadata": {},
   "source": [
    "### Sets"
   ]
  },
  {
   "cell_type": "code",
   "execution_count": 68,
   "id": "ae3984c7",
   "metadata": {},
   "outputs": [
    {
     "name": "stdout",
     "output_type": "stream",
     "text": [
      "{'orange', 'watermelon', 'melon', 'apple', 'cherry', 'banana'}\n"
     ]
    }
   ],
   "source": [
    "# Set Creation\n",
    "fruits = {'apple', 'banana', 'cherry', 'orange', 'melon', 'watermelon'}\n",
    "print(fruits)"
   ]
  },
  {
   "cell_type": "code",
   "execution_count": 69,
   "id": "8240a31c",
   "metadata": {},
   "outputs": [
    {
     "ename": "TypeError",
     "evalue": "'set' object is not subscriptable",
     "output_type": "error",
     "traceback": [
      "\u001b[1;31m---------------------------------------------------------------------------\u001b[0m",
      "\u001b[1;31mTypeError\u001b[0m                                 Traceback (most recent call last)",
      "Cell \u001b[1;32mIn[69], line 2\u001b[0m\n\u001b[0;32m      1\u001b[0m \u001b[38;5;66;03m# Indexing doesn't apply \u001b[39;00m\n\u001b[1;32m----> 2\u001b[0m fruits[\u001b[38;5;241m0\u001b[39m]\n",
      "\u001b[1;31mTypeError\u001b[0m: 'set' object is not subscriptable"
     ]
    }
   ],
   "source": [
    "# Indexing doesn't apply \n",
    "fruits[0]"
   ]
  },
  {
   "cell_type": "markdown",
   "id": "9ab4a991",
   "metadata": {},
   "source": [
    "# Advance Topic"
   ]
  },
  {
   "cell_type": "markdown",
   "id": "a5978d55",
   "metadata": {},
   "source": [
    "### 1. For Loops"
   ]
  },
  {
   "cell_type": "code",
   "execution_count": 70,
   "id": "d3f29192",
   "metadata": {},
   "outputs": [
    {
     "name": "stdout",
     "output_type": "stream",
     "text": [
      "0\n",
      "2\n",
      "4\n",
      "6\n",
      "8\n",
      "10\n",
      "12\n",
      "14\n",
      "16\n",
      "18\n"
     ]
    }
   ],
   "source": [
    "for i in range(20):\n",
    "    if i%2 == 0:\n",
    "        print(i)"
   ]
  },
  {
   "cell_type": "markdown",
   "id": "7bc9ed13",
   "metadata": {},
   "source": [
    "* #### Shortcut method"
   ]
  },
  {
   "cell_type": "code",
   "execution_count": 74,
   "id": "e43144f6",
   "metadata": {},
   "outputs": [
    {
     "name": "stdout",
     "output_type": "stream",
     "text": [
      "[0, 2, 4, 6, 8, 10, 12, 14, 16, 18]\n"
     ]
    }
   ],
   "source": [
    "x = [i for i in range(20) if i % 2 == 0]\n",
    "print(x)"
   ]
  }
 ],
 "metadata": {
  "kernelspec": {
   "display_name": "Python 3 (ipykernel)",
   "language": "python",
   "name": "python3"
  },
  "language_info": {
   "codemirror_mode": {
    "name": "ipython",
    "version": 3
   },
   "file_extension": ".py",
   "mimetype": "text/x-python",
   "name": "python",
   "nbconvert_exporter": "python",
   "pygments_lexer": "ipython3",
   "version": "3.12.3"
  }
 },
 "nbformat": 4,
 "nbformat_minor": 5
}
