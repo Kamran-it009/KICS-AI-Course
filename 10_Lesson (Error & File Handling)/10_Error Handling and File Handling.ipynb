{
 "cells": [
  {
   "cell_type": "markdown",
   "id": "fab38697-217a-4464-ad09-9f563ba4ff6a",
   "metadata": {},
   "source": [
    "# Error Handling\n"
   ]
  },
  {
   "cell_type": "markdown",
   "id": "0692a8d3-9c76-44f5-8f76-da4da38b89b2",
   "metadata": {},
   "source": [
    "### Types of Error\n",
    "* Syntax error\n",
    "* runtime error\n",
    "* logical error"
   ]
  },
  {
   "cell_type": "code",
   "execution_count": 1,
   "id": "898d4c9e-24b2-4bb9-b09e-847598a22b50",
   "metadata": {},
   "outputs": [
    {
     "ename": "NameError",
     "evalue": "name 'prin' is not defined",
     "output_type": "error",
     "traceback": [
      "\u001b[1;31m---------------------------------------------------------------------------\u001b[0m",
      "\u001b[1;31mNameError\u001b[0m                                 Traceback (most recent call last)",
      "\u001b[1;32m~\\AppData\\Local\\Temp/ipykernel_1320/1628295085.py\u001b[0m in \u001b[0;36m<module>\u001b[1;34m\u001b[0m\n\u001b[0;32m      1\u001b[0m \u001b[1;31m# Name Error\u001b[0m\u001b[1;33m\u001b[0m\u001b[1;33m\u001b[0m\u001b[0m\n\u001b[1;32m----> 2\u001b[1;33m \u001b[0mprin\u001b[0m\u001b[1;33m(\u001b[0m\u001b[1;34m'Hello world'\u001b[0m\u001b[1;33m)\u001b[0m\u001b[1;33m\u001b[0m\u001b[1;33m\u001b[0m\u001b[0m\n\u001b[0m",
      "\u001b[1;31mNameError\u001b[0m: name 'prin' is not defined"
     ]
    }
   ],
   "source": [
    "# Name Error\n",
    "prin('Hello world')"
   ]
  },
  {
   "cell_type": "code",
   "execution_count": 6,
   "id": "b3711137-37f9-4808-a5f3-76833546ace2",
   "metadata": {},
   "outputs": [
    {
     "ename": "SyntaxError",
     "evalue": "EOL while scanning string literal (Temp/ipykernel_1320/628496611.py, line 2)",
     "output_type": "error",
     "traceback": [
      "\u001b[1;36m  File \u001b[1;32m\"C:\\Users\\pak\\AppData\\Local\\Temp/ipykernel_1320/628496611.py\"\u001b[1;36m, line \u001b[1;32m2\u001b[0m\n\u001b[1;33m    print('Hello world)\u001b[0m\n\u001b[1;37m                       ^\u001b[0m\n\u001b[1;31mSyntaxError\u001b[0m\u001b[1;31m:\u001b[0m EOL while scanning string literal\n"
     ]
    }
   ],
   "source": [
    "# Syntax error\n",
    "print('Hello world)"
   ]
  },
  {
   "cell_type": "code",
   "execution_count": 2,
   "id": "cb880a02-47ea-49c7-977e-bf608d00c213",
   "metadata": {},
   "outputs": [
    {
     "ename": "ZeroDivisionError",
     "evalue": "division by zero",
     "output_type": "error",
     "traceback": [
      "\u001b[1;31m---------------------------------------------------------------------------\u001b[0m",
      "\u001b[1;31mZeroDivisionError\u001b[0m                         Traceback (most recent call last)",
      "\u001b[1;32m~\\AppData\\Local\\Temp/ipykernel_1320/2992409320.py\u001b[0m in \u001b[0;36m<module>\u001b[1;34m\u001b[0m\n\u001b[0;32m      1\u001b[0m \u001b[1;31m# runtime error\u001b[0m\u001b[1;33m\u001b[0m\u001b[1;33m\u001b[0m\u001b[0m\n\u001b[1;32m----> 2\u001b[1;33m \u001b[0mprint\u001b[0m\u001b[1;33m(\u001b[0m\u001b[1;36m10\u001b[0m\u001b[1;33m/\u001b[0m\u001b[1;36m0\u001b[0m\u001b[1;33m)\u001b[0m\u001b[1;33m\u001b[0m\u001b[1;33m\u001b[0m\u001b[0m\n\u001b[0m",
      "\u001b[1;31mZeroDivisionError\u001b[0m: division by zero"
     ]
    }
   ],
   "source": [
    "# runtime error\n",
    "print(10/0)"
   ]
  },
  {
   "cell_type": "code",
   "execution_count": 3,
   "id": "0e5bace0-4f1b-4e94-a078-8938f8f5774e",
   "metadata": {},
   "outputs": [
    {
     "name": "stdout",
     "output_type": "stream",
     "text": [
      "5\n"
     ]
    }
   ],
   "source": [
    "# Logical error\n",
    "x = 10\n",
    "y  = 5\n",
    "print(x - y) # written (-) instead of (+)"
   ]
  },
  {
   "cell_type": "markdown",
   "id": "fb89a455-2098-4d12-bd60-43b9f5fae2e2",
   "metadata": {},
   "source": [
    "* ##### An error stops the execution of remaining code"
   ]
  },
  {
   "cell_type": "code",
   "execution_count": 7,
   "id": "08d9048d-1e4c-4c55-9cb6-6c29bb6c774c",
   "metadata": {},
   "outputs": [
    {
     "ename": "ZeroDivisionError",
     "evalue": "division by zero",
     "output_type": "error",
     "traceback": [
      "\u001b[1;31m---------------------------------------------------------------------------\u001b[0m",
      "\u001b[1;31mZeroDivisionError\u001b[0m                         Traceback (most recent call last)",
      "\u001b[1;32m~\\AppData\\Local\\Temp/ipykernel_1320/1524436131.py\u001b[0m in \u001b[0;36m<module>\u001b[1;34m\u001b[0m\n\u001b[1;32m----> 1\u001b[1;33m \u001b[0mresult\u001b[0m \u001b[1;33m=\u001b[0m \u001b[1;36m10\u001b[0m \u001b[1;33m/\u001b[0m \u001b[1;36m0\u001b[0m\u001b[1;33m\u001b[0m\u001b[1;33m\u001b[0m\u001b[0m\n\u001b[0m\u001b[0;32m      2\u001b[0m \u001b[0mprint\u001b[0m\u001b[1;33m(\u001b[0m\u001b[1;34m'Hello World'\u001b[0m\u001b[1;33m)\u001b[0m \u001b[1;31m# it will not execute\u001b[0m\u001b[1;33m\u001b[0m\u001b[1;33m\u001b[0m\u001b[0m\n",
      "\u001b[1;31mZeroDivisionError\u001b[0m: division by zero"
     ]
    }
   ],
   "source": [
    "result = 10 / 0\n",
    "print('Hello World') # it will not execute"
   ]
  },
  {
   "cell_type": "markdown",
   "id": "40672daa-a3cf-4e81-afad-227435ea71b9",
   "metadata": {},
   "source": [
    "### 1. How to handle errors"
   ]
  },
  {
   "cell_type": "markdown",
   "id": "e429ce27",
   "metadata": {},
   "source": [
    "* ###### Case no: 1"
   ]
  },
  {
   "cell_type": "code",
   "execution_count": 8,
   "id": "32aa315d-d15b-4cd8-9425-93dac2127c55",
   "metadata": {},
   "outputs": [
    {
     "name": "stdout",
     "output_type": "stream",
     "text": [
      "ZeroDivision Error\n",
      "Hello World\n",
      "Hello World\n",
      "Hello World\n",
      "Hello World\n",
      "Hello World\n"
     ]
    }
   ],
   "source": [
    "try:\n",
    "    result = 10 / 0\n",
    "    print(result)\n",
    "except:\n",
    "    print(\"ZeroDivision Error\")\n",
    "\n",
    "print('Hello World')\n",
    "print('Hello World')\n",
    "print('Hello World')\n",
    "print('Hello World')\n",
    "print('Hello World')"
   ]
  },
  {
   "cell_type": "markdown",
   "id": "a611b4f3",
   "metadata": {},
   "source": [
    "* ###### Case no: 2"
   ]
  },
  {
   "cell_type": "code",
   "execution_count": 5,
   "id": "2314bce4-e9a3-4e62-a3d7-164b2e62a93a",
   "metadata": {},
   "outputs": [
    {
     "name": "stdout",
     "output_type": "stream",
     "text": [
      "Caught a ZeroDivisionError: division by zero\n"
     ]
    }
   ],
   "source": [
    "try:\n",
    "    result = 10 / 0  # This will raise a ZeroDivisionError\n",
    "except ZeroDivisionError as e:\n",
    "    print(\"Caught a ZeroDivisionError:\", str(e))"
   ]
  },
  {
   "cell_type": "markdown",
   "id": "93a2f8c7",
   "metadata": {},
   "source": [
    "* ###### Case no: 3"
   ]
  },
  {
   "cell_type": "code",
   "execution_count": 6,
   "id": "8cc72cf9-f306-449e-a7cb-1ce9ad41a09b",
   "metadata": {},
   "outputs": [
    {
     "name": "stdout",
     "output_type": "stream",
     "text": [
      "Caught a ZeroDivisionError: name 'prin' is not defined\n"
     ]
    }
   ],
   "source": [
    "try:\n",
    "    prin('Kamran') # This will raise a NameError\n",
    "except NameError as n:\n",
    "    print(\"Caught a ZeroDivisionError:\", str(n))"
   ]
  },
  {
   "cell_type": "markdown",
   "id": "dac23aea-fa48-4b7c-b598-8ac946cd0caf",
   "metadata": {},
   "source": [
    "### 3.  try-except-else-finally block in Python.\n",
    "\n",
    "* The **try** block contains the code that may raise an exception.\n",
    "* The **except** block contains the code that is executed if an exception is raised.\n",
    "* The **else** block contains the code that is executed if no exceptions are raised.\n",
    "* The **finally** block contains the code that is always executed, regardless of whether an exception is raised."
   ]
  },
  {
   "cell_type": "code",
   "execution_count": 7,
   "id": "e75acc48-a16c-447f-a2da-dea2126fd396",
   "metadata": {},
   "outputs": [
    {
     "name": "stdout",
     "output_type": "stream",
     "text": [
      "Caught a ZeroDivisionError: division by zero\n",
      "Thank you\n"
     ]
    }
   ],
   "source": [
    "try:\n",
    "    x = 10\n",
    "    y = 0\n",
    "    result = x / y\n",
    "except ZeroDivisionError as e:\n",
    "    print(\"Caught a ZeroDivisionError:\", str(e))\n",
    "else:\n",
    "    print(\"Division successful:\", result)\n",
    "finally:\n",
    "    print(\"Thank you\")"
   ]
  },
  {
   "cell_type": "markdown",
   "id": "5025aca8-4dd2-417d-97ef-017c988ab7bb",
   "metadata": {},
   "source": [
    "# File handling"
   ]
  },
  {
   "cell_type": "markdown",
   "id": "1ed88eef-6bd2-4211-bdbf-43a922583a0d",
   "metadata": {},
   "source": [
    "### There are 6 access modes in Python:\n",
    "\n",
    "* Read Only (‘r’)\n",
    "* Read and Write (‘r+’)\n",
    "* Write Only (‘w’)\n",
    "* Write and Read (‘w+’)\n",
    "* Append Only (‘a’)\n",
    "* Append and Read (‘a+’)"
   ]
  },
  {
   "cell_type": "markdown",
   "id": "f993de44",
   "metadata": {},
   "source": [
    "### 1. READ MODE"
   ]
  },
  {
   "cell_type": "code",
   "execution_count": 9,
   "id": "ae09b184-9540-41ee-8109-082d8216f0cc",
   "metadata": {},
   "outputs": [
    {
     "name": "stdout",
     "output_type": "stream",
     "text": [
      "<_io.TextIOWrapper name='data.txt' mode='r' encoding='cp1252'>\n"
     ]
    }
   ],
   "source": [
    "file = open('data.txt')\n",
    "print(file)"
   ]
  },
  {
   "cell_type": "markdown",
   "id": "ab1981d8",
   "metadata": {},
   "source": [
    "* ###### Case no: 1"
   ]
  },
  {
   "cell_type": "code",
   "execution_count": 10,
   "id": "ce4100d4-70c2-4e50-b9d9-b115ca1ff871",
   "metadata": {},
   "outputs": [
    {
     "name": "stdout",
     "output_type": "stream",
     "text": [
      "Kamran\n",
      "\n",
      "Ali\n",
      "\n",
      "Pakistan zinda bad\n",
      "\n"
     ]
    }
   ],
   "source": [
    "# By default, The file opens in read mode\n",
    "print(file.readline())\n",
    "print(file.readline())\n",
    "print(file.readline())"
   ]
  },
  {
   "cell_type": "markdown",
   "id": "a5c642ee",
   "metadata": {},
   "source": [
    "* ###### Case no: 2"
   ]
  },
  {
   "cell_type": "code",
   "execution_count": 49,
   "id": "2cd4a36b-1eb5-4f48-adf2-431a80aef359",
   "metadata": {},
   "outputs": [
    {
     "name": "stdout",
     "output_type": "stream",
     "text": [
      "<_io.TextIOWrapper name='data.txt' mode='r' encoding='cp1252'>\n",
      "['This is our 7th class of AI.\\n', 'This is our Error Hnadling Class.\\n', 'This is our File Handling.']\n"
     ]
    }
   ],
   "source": [
    "file = open('data.txt')\n",
    "print(file)\n",
    "print(file.readlines())"
   ]
  },
  {
   "cell_type": "markdown",
   "id": "a25ee04a",
   "metadata": {},
   "source": [
    "* ###### Case no: 3"
   ]
  },
  {
   "cell_type": "code",
   "execution_count": 12,
   "id": "26150fd5-c718-4dfa-b2f3-3a1055bc3166",
   "metadata": {},
   "outputs": [
    {
     "name": "stdout",
     "output_type": "stream",
     "text": [
      "<_io.TextIOWrapper name='data.txt' mode='r' encoding='cp1252'>\n",
      "Kamran\n",
      "\n"
     ]
    }
   ],
   "source": [
    "file = open('data.txt')\n",
    "print(file)\n",
    "print(file.readlines()[0])"
   ]
  },
  {
   "cell_type": "markdown",
   "id": "2d402e65",
   "metadata": {},
   "source": [
    "* ###### Case no: 4"
   ]
  },
  {
   "cell_type": "code",
   "execution_count": 14,
   "id": "753c5f8c-8077-46d3-8e02-756cc29ec81a",
   "metadata": {},
   "outputs": [
    {
     "name": "stdout",
     "output_type": "stream",
     "text": [
      "<_io.TextIOWrapper name='data.txt' mode='r' encoding='cp1252'>\n",
      "Kamran\n",
      "\n"
     ]
    }
   ],
   "source": [
    "file = open('data.txt')\n",
    "print(file)\n",
    "print(file.readline())\n",
    "file.close()"
   ]
  },
  {
   "cell_type": "code",
   "execution_count": 52,
   "id": "e694c604-5285-495d-a983-958adb681f68",
   "metadata": {},
   "outputs": [
    {
     "ename": "ValueError",
     "evalue": "I/O operation on closed file.",
     "output_type": "error",
     "traceback": [
      "\u001b[1;31m---------------------------------------------------------------------------\u001b[0m",
      "\u001b[1;31mValueError\u001b[0m                                Traceback (most recent call last)",
      "\u001b[1;32m~\\AppData\\Local\\Temp/ipykernel_3492/3377491257.py\u001b[0m in \u001b[0;36m<module>\u001b[1;34m\u001b[0m\n\u001b[1;32m----> 1\u001b[1;33m \u001b[0mprint\u001b[0m\u001b[1;33m(\u001b[0m\u001b[0mfile\u001b[0m\u001b[1;33m.\u001b[0m\u001b[0mreadline\u001b[0m\u001b[1;33m(\u001b[0m\u001b[1;33m)\u001b[0m\u001b[1;33m)\u001b[0m\u001b[1;33m\u001b[0m\u001b[1;33m\u001b[0m\u001b[0m\n\u001b[0m",
      "\u001b[1;31mValueError\u001b[0m: I/O operation on closed file."
     ]
    }
   ],
   "source": [
    "print(file.readline())"
   ]
  },
  {
   "cell_type": "markdown",
   "id": "4751162c",
   "metadata": {},
   "source": [
    "### 2. WRITE MODE"
   ]
  },
  {
   "cell_type": "code",
   "execution_count": 15,
   "id": "59cb4437-e951-4ebe-938b-9c129a1c1cbd",
   "metadata": {},
   "outputs": [],
   "source": [
    "with open(\"data.txt\", 'w') as file:  \n",
    "    file.write(\"Pakistan zinda bad\")"
   ]
  },
  {
   "cell_type": "markdown",
   "id": "2424c828",
   "metadata": {},
   "source": [
    "### 3. APPEND MODE"
   ]
  },
  {
   "cell_type": "code",
   "execution_count": 16,
   "id": "c86022ba-c0c3-4265-861f-d9d477eac286",
   "metadata": {},
   "outputs": [],
   "source": [
    "with open(\"data.txt\", 'a') as file:\n",
    "    file.write(\"\\nPakistan zinda bad\")"
   ]
  }
 ],
 "metadata": {
  "kernelspec": {
   "display_name": "Python 3 (ipykernel)",
   "language": "python",
   "name": "python3"
  },
  "language_info": {
   "codemirror_mode": {
    "name": "ipython",
    "version": 3
   },
   "file_extension": ".py",
   "mimetype": "text/x-python",
   "name": "python",
   "nbconvert_exporter": "python",
   "pygments_lexer": "ipython3",
   "version": "3.11.3"
  }
 },
 "nbformat": 4,
 "nbformat_minor": 5
}
