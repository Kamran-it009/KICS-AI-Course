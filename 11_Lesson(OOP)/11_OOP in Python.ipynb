{
 "cells": [
  {
   "cell_type": "markdown",
   "id": "b1a5003a",
   "metadata": {},
   "source": [
    "# Object Oriented Programing"
   ]
  },
  {
   "cell_type": "markdown",
   "id": "c67f65f2",
   "metadata": {},
   "source": [
    "* OOP stand for Object oriented programming\n",
    "* OOP Programming paradigm.\n",
    "* Objects Contain data and code.\n",
    "* Data Attributes of objects.\n",
    "* Code Methods to manipulate data."
   ]
  },
  {
   "cell_type": "markdown",
   "id": "d1ac7584",
   "metadata": {},
   "source": [
    "### 1. Example of Class and Object"
   ]
  },
  {
   "cell_type": "code",
   "execution_count": 10,
   "id": "594dca0d",
   "metadata": {},
   "outputs": [
    {
     "name": "stdout",
     "output_type": "stream",
     "text": [
      "<__main__.BigObject object at 0x000001FE33BC2450>\n"
     ]
    }
   ],
   "source": [
    "class BigObject():  # class\n",
    "    pass\n",
    "\n",
    "obj1 = BigObject() # instanciate \n",
    "\n",
    "print(obj1)"
   ]
  },
  {
   "cell_type": "markdown",
   "id": "a2f23ee6",
   "metadata": {},
   "source": [
    "### 2. Attributes and Methods"
   ]
  },
  {
   "cell_type": "code",
   "execution_count": 11,
   "id": "4689d395",
   "metadata": {},
   "outputs": [],
   "source": [
    "class Person(): # \n",
    "    name = 'John' # class attributes\n",
    "    age = 25 # class attributes\n",
    "    \n",
    "    def walk(self): # Method 1\n",
    "        print('The person is walking') \n",
    "        \n",
    "    def jump(self):  # Method 2\n",
    "        print('The person is jumping')\n",
    "    \n",
    "    def drive(self):  # Method 3\n",
    "        print('Person is driving')"
   ]
  },
  {
   "cell_type": "code",
   "execution_count": 12,
   "id": "746e53c7",
   "metadata": {},
   "outputs": [
    {
     "name": "stdout",
     "output_type": "stream",
     "text": [
      "<class '__main__.Person'>\n",
      "<__main__.Person object at 0x000001FE33BB0D10>\n"
     ]
    }
   ],
   "source": [
    "person1 = Person() \n",
    "print(type(person1))\n",
    "print(person1)"
   ]
  },
  {
   "cell_type": "code",
   "execution_count": 13,
   "id": "e5527905",
   "metadata": {},
   "outputs": [
    {
     "name": "stdout",
     "output_type": "stream",
     "text": [
      "John\n",
      "25\n",
      "---------------------\n",
      "The person is walking\n",
      "Person is driving\n"
     ]
    }
   ],
   "source": [
    "# Accessing attributes\n",
    "print(person1.name) \n",
    "print(person1.age)\n",
    "print('---------------------')\n",
    "\n",
    "# Calling class methods\n",
    "person1.walk()\n",
    "person1.drive()"
   ]
  },
  {
   "cell_type": "markdown",
   "id": "32c17b0b",
   "metadata": {},
   "source": [
    "### 3. Constructor Function"
   ]
  },
  {
   "cell_type": "code",
   "execution_count": 14,
   "id": "4590f015",
   "metadata": {},
   "outputs": [],
   "source": [
    "class Person():\n",
    "    def __init__(self, name, age): # constructor method\n",
    "        self.name = name # object attriburtes\n",
    "        self.age = age # object attriburtes\n",
    "    \n",
    "    def walk(self): # object methods\n",
    "        print('The person is walking')"
   ]
  },
  {
   "cell_type": "code",
   "execution_count": 15,
   "id": "b914ec4a",
   "metadata": {},
   "outputs": [],
   "source": [
    "p1 = Person('David', 30)"
   ]
  },
  {
   "cell_type": "code",
   "execution_count": 16,
   "id": "20484477",
   "metadata": {},
   "outputs": [
    {
     "name": "stdout",
     "output_type": "stream",
     "text": [
      "David\n",
      "The person is walking\n"
     ]
    }
   ],
   "source": [
    "print(p1.name)\n",
    "p1.walk()"
   ]
  },
  {
   "cell_type": "markdown",
   "id": "00c351d7",
   "metadata": {},
   "source": [
    "### 4. Abstraction"
   ]
  },
  {
   "cell_type": "code",
   "execution_count": 17,
   "id": "e8675d5a",
   "metadata": {},
   "outputs": [
    {
     "name": "stdout",
     "output_type": "stream",
     "text": [
      "The person is walking\n"
     ]
    }
   ],
   "source": [
    "p1.walk() # we dont know the implementation"
   ]
  },
  {
   "cell_type": "markdown",
   "id": "5c2e8ec5",
   "metadata": {},
   "source": [
    "### 5. Inheritance"
   ]
  },
  {
   "cell_type": "code",
   "execution_count": 29,
   "id": "02d84771",
   "metadata": {},
   "outputs": [],
   "source": [
    "class Person():\n",
    "    def __init__(self, name, age, gender):\n",
    "        self.name = name\n",
    "        self.age = age\n",
    "        self.gender = gender\n",
    "        \n",
    "    def walk(self):\n",
    "        print('He is Walking...')\n",
    "\n",
    "class Student(Person):\n",
    "    roll_no = 1231\n",
    "    def register_course(self):\n",
    "        print('Computer Science course is registered')"
   ]
  },
  {
   "cell_type": "code",
   "execution_count": 30,
   "id": "e51d69a1",
   "metadata": {},
   "outputs": [],
   "source": [
    "student1 = Student('Kamran', 30, 'male')"
   ]
  },
  {
   "cell_type": "code",
   "execution_count": 32,
   "id": "b1777f23",
   "metadata": {},
   "outputs": [
    {
     "name": "stdout",
     "output_type": "stream",
     "text": [
      "The age of Student: 30\n",
      "The name of Student: Kamran\n",
      "He is Walking...\n",
      "None\n",
      "---------------------------\n",
      "1231\n"
     ]
    }
   ],
   "source": [
    "print('The age of Student:', student1.age) # inheritence\n",
    "print('The name of Student:',student1.name)\n",
    "\n",
    "print(student1.walk()) # inheritence\n",
    "print('---------------------------')\n",
    "print(student1.roll_no)"
   ]
  },
  {
   "cell_type": "markdown",
   "id": "e4417db0",
   "metadata": {},
   "source": [
    "### 6. Encapsulation"
   ]
  },
  {
   "cell_type": "code",
   "execution_count": 103,
   "id": "feb8ed48",
   "metadata": {},
   "outputs": [],
   "source": [
    "class Person():\n",
    "    def __init__(self, name, age): # constructor method\n",
    "        self.__name = name # private attribute\n",
    "        self._age = age # protected attribute\n",
    "    \n",
    "    def walk(self): # class method\n",
    "        print('The person is walking')"
   ]
  },
  {
   "cell_type": "code",
   "execution_count": 104,
   "id": "535a6517",
   "metadata": {},
   "outputs": [],
   "source": [
    "p1 = Person('Kamran', 30)"
   ]
  },
  {
   "cell_type": "code",
   "execution_count": 105,
   "id": "cc77a35d",
   "metadata": {},
   "outputs": [
    {
     "ename": "AttributeError",
     "evalue": "'Person' object has no attribute 'name'",
     "output_type": "error",
     "traceback": [
      "\u001b[1;31m---------------------------------------------------------------------------\u001b[0m",
      "\u001b[1;31mAttributeError\u001b[0m                            Traceback (most recent call last)",
      "Cell \u001b[1;32mIn[105], line 1\u001b[0m\n\u001b[1;32m----> 1\u001b[0m \u001b[38;5;28mprint\u001b[39m(p1\u001b[38;5;241m.\u001b[39mname)\n",
      "\u001b[1;31mAttributeError\u001b[0m: 'Person' object has no attribute 'name'"
     ]
    }
   ],
   "source": [
    "print(p1.name)"
   ]
  },
  {
   "cell_type": "code",
   "execution_count": 122,
   "id": "8859045b",
   "metadata": {},
   "outputs": [],
   "source": [
    "class Student(Person):\n",
    "    def getting_age(self):\n",
    "        print('Now age is:', self._age)\n",
    "#         print('Now the name:', self.__name)\n",
    "\n",
    "student2 = Student('Ali', 30)"
   ]
  },
  {
   "cell_type": "code",
   "execution_count": 123,
   "id": "3c5640bd",
   "metadata": {},
   "outputs": [
    {
     "name": "stdout",
     "output_type": "stream",
     "text": [
      "Now age is: 30\n"
     ]
    }
   ],
   "source": [
    "student2.getting_age()"
   ]
  },
  {
   "cell_type": "markdown",
   "id": "cc90711c",
   "metadata": {},
   "source": [
    "### 7. Polymorphoism"
   ]
  },
  {
   "cell_type": "code",
   "execution_count": 126,
   "id": "a959e42f",
   "metadata": {},
   "outputs": [],
   "source": [
    "class Teacher():\n",
    "    def register_course(self):\n",
    "        print('Computer Science course is taught by teacher')\n",
    "\n",
    "class Student():\n",
    "    def register_course(self):\n",
    "        print('Computer Science course is registered')"
   ]
  },
  {
   "cell_type": "code",
   "execution_count": 127,
   "id": "1214019d",
   "metadata": {},
   "outputs": [
    {
     "name": "stdout",
     "output_type": "stream",
     "text": [
      "Computer Science course is taught by teacher\n",
      "Computer Science course is registered\n"
     ]
    }
   ],
   "source": [
    "teacher1 = Teacher()\n",
    "student1 = Student()\n",
    "\n",
    "teacher1.register_course()\n",
    "student1.register_course()"
   ]
  },
  {
   "cell_type": "markdown",
   "id": "f4ba60cc",
   "metadata": {},
   "source": [
    "### 8. Class Methods vs Static Methods"
   ]
  },
  {
   "cell_type": "markdown",
   "id": "e11416e2",
   "metadata": {},
   "source": [
    "A method that is connected to the class itself, as opposed to the class instance, is called a class method. Rather than \n",
    "on a class instance, it can be called on the class itself. Class methods are frequently used to implement functionality \n",
    "linked to the class as a whole, rather than to individual instances of the class, or as substitutes for constructors.\n",
    "A classmethod() is a built-in function in Python, It is denoted by the @classmethod decorator and can be accessed \n",
    "directly from the class itself"
   ]
  },
  {
   "cell_type": "markdown",
   "id": "5c2f368e",
   "metadata": {},
   "source": [
    "Key Characteristics of Class Methods:\n",
    "- Bound to the Class: Class methods are bound to the class, not to an object of the class.\n",
    "- Can be Called by Both Class and Object: Class methods can be called by both the class and an object of the class.\n",
    "- Access Class Variables: Class methods can access and modify class variables, which are shared by all instances of the \n",
    "class.\n",
    "- Use cls as the First Parameter: Class methods use cls as the first parameter, which refers to the class."
   ]
  },
  {
   "cell_type": "markdown",
   "id": "b3f4870c",
   "metadata": {},
   "source": [
    "#### Example of Static and Class Method"
   ]
  },
  {
   "cell_type": "code",
   "execution_count": 1,
   "id": "39c014ad",
   "metadata": {},
   "outputs": [
    {
     "name": "stdout",
     "output_type": "stream",
     "text": [
      "5\n",
      "5\n"
     ]
    }
   ],
   "source": [
    "# Class definition\n",
    "class PlayerCharacter:\n",
    "    # Constructor method\n",
    "    # Class object Attribute \n",
    "    membership = True\n",
    "    def __init__(self, name, age):\n",
    "        # self refers to the instance\n",
    "            self.name = name\n",
    "            self.age = age\n",
    "\n",
    "    # Method definition\n",
    "    def shout(self):\n",
    "        # Print the object's name\n",
    "        print(f'my name is {self.name}')\n",
    "\n",
    "    # classmethod     \n",
    "    @classmethod\n",
    "    def adding_things(cls, num1, num2):\n",
    "        # cls stand for class \n",
    "        return num1 + num2\n",
    "\n",
    "    # staticmethod     \n",
    "    @staticmethod\n",
    "    def adding_things2(num1, num2):\n",
    "        # cls stand for class \n",
    "        return num1 + num2\n",
    "    \n",
    "    \n",
    "# Create object\n",
    "player1 = PlayerCharacter('Tom', 20)\n",
    "# print(player1.shout())\n",
    "\n",
    "print(player1.adding_things(2,3))\n",
    "print(player1.adding_things2(2,3))"
   ]
  },
  {
   "cell_type": "markdown",
   "id": "a31b77e4",
   "metadata": {},
   "source": [
    "### 9. Dunder Methods / Magic Methods"
   ]
  },
  {
   "cell_type": "markdown",
   "id": "ef235f65",
   "metadata": {},
   "source": [
    "Imagine you have a toolbox in Python. This toolbox has regular tools like hammers and screwdrivers, but it also has some special tools with fancy double-handled names. These special tools are called dunder methods, also known as magic methods. Dunder comes from \"double underscore\" because these methods all have two underscores at the beginning and end of their names (like __init__ or __add__). Magic because they seem to work like magic behind the scenes. You don't call them directly, but Python uses them automatically when you do certain things. These special tools let your custom objects (like a class for a dog) work smoothly with Python's built-in features:\n",
    "\n",
    "* Creating objects: When you create a new dog object, a special dunder method called (__init__) gets called automatically to set up the dog's properties (like name and breed).\n",
    "* Printing objects: When you try to print a dog object, another dunder method called __str__ gets called to turn the dog's information into a readable string.\n",
    "* Comparing objects: If you check if two dogs are equal (dog1 == dog2), a dunder method like __eq__ gets called to compare their properties."
   ]
  },
  {
   "cell_type": "code",
   "execution_count": 137,
   "id": "4c7ff8f6",
   "metadata": {},
   "outputs": [
    {
     "name": "stdout",
     "output_type": "stream",
     "text": [
      "red\n"
     ]
    }
   ],
   "source": [
    "class Toy():\n",
    "    def __init__(self,color,age):\n",
    "        self.color = color\n",
    "        self.age = age \n",
    "        \n",
    "# __str__ dunder method        \n",
    "    def __str__(self):\n",
    "        return f'{self.color}'\n",
    "        \n",
    "action_figure = Toy('red', 0)\n",
    "# __str__ dunder method\n",
    "\n",
    "print(action_figure)"
   ]
  },
  {
   "cell_type": "code",
   "execution_count": 12,
   "id": "240349ce",
   "metadata": {},
   "outputs": [
    {
     "data": {
      "text/plain": [
       "<__main__.PlayerCharacter at 0x1af022b9dd0>"
      ]
     },
     "execution_count": 12,
     "metadata": {},
     "output_type": "execute_result"
    }
   ],
   "source": [
    "PlayerCharacter.adding_things(5, 2)"
   ]
  },
  {
   "cell_type": "markdown",
   "id": "d6b0b5f8",
   "metadata": {},
   "source": [
    "### Assignment:\n",
    "1. What is getter and setter methods?\n",
    "2. What is the introspection? and describe the purpose of super keyword.\n",
    "3. What is Multiple Inheritence? Describe the purpose of Multi Resolution Order."
   ]
  }
 ],
 "metadata": {
  "kernelspec": {
   "display_name": "Python 3 (ipykernel)",
   "language": "python",
   "name": "python3"
  },
  "language_info": {
   "codemirror_mode": {
    "name": "ipython",
    "version": 3
   },
   "file_extension": ".py",
   "mimetype": "text/x-python",
   "name": "python",
   "nbconvert_exporter": "python",
   "pygments_lexer": "ipython3",
   "version": "3.11.3"
  }
 },
 "nbformat": 4,
 "nbformat_minor": 5
}
