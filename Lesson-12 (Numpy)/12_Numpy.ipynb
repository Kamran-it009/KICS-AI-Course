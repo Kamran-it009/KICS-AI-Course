{
 "cells": [
  {
   "cell_type": "markdown",
   "id": "0ea9b0e7",
   "metadata": {},
   "source": [
    "### 1. Numpy Installation"
   ]
  },
  {
   "cell_type": "code",
   "execution_count": null,
   "id": "65d56187",
   "metadata": {},
   "outputs": [],
   "source": [
    "# installing aspecific version\n",
    "pip install numpy==1.24"
   ]
  },
  {
   "cell_type": "code",
   "execution_count": 25,
   "id": "0d353e12",
   "metadata": {},
   "outputs": [
    {
     "name": "stdout",
     "output_type": "stream",
     "text": [
      "Name: numpy\n",
      "Version: 1.22.4\n",
      "Summary: NumPy is the fundamental package for array computing with Python.\n",
      "Home-page: https://www.numpy.org\n",
      "Author: Travis E. Oliphant et al.\n",
      "Author-email: \n",
      "License: BSD\n",
      "Location: c:\\users\\pak\\anaconda3\\lib\\site-packages\n",
      "Requires: \n",
      "Required-by: xgboost, transformers, torchvision, tifffile, tensorflow-intel, tensorflow-hub, tensorboard, tables, statsmodels, stanza, shapely, sentence-transformers, seaborn, scipy, scikit-learn, scikit-image, PyWavelets, pyerfa, pyarrow, patsy, pandas, opt-einsum, opencv-python, numexpr, numba, ml-dtypes, mkl-random, mkl-fft, matplotlib, Keras-Preprocessing, jax, imbalanced-learn, imageio, imagecodecs, h5py, datasets, daal4py, Bottleneck, bokeh, bkcharts, astropy\n",
      "Note: you may need to restart the kernel to use updated packages.\n"
     ]
    },
    {
     "name": "stderr",
     "output_type": "stream",
     "text": [
      "WARNING: Ignoring invalid distribution -rotobuf (c:\\users\\pak\\anaconda3\\lib\\site-packages)\n"
     ]
    }
   ],
   "source": [
    "# checking version\n",
    "pip show numpy"
   ]
  },
  {
   "cell_type": "markdown",
   "id": "3fe2d2fd-dded-46e7-942a-6d30bf546968",
   "metadata": {},
   "source": [
    "#### List"
   ]
  },
  {
   "cell_type": "code",
   "execution_count": 1,
   "id": "d7706aa2",
   "metadata": {},
   "outputs": [
    {
     "name": "stdout",
     "output_type": "stream",
     "text": [
      "['apple', 'mango', 'banana']\n"
     ]
    }
   ],
   "source": [
    "fruits = ['apple', 'mango', 'banana']\n",
    "print(fruits)"
   ]
  },
  {
   "cell_type": "markdown",
   "id": "36c532c8",
   "metadata": {},
   "source": [
    "### 2. Arrays"
   ]
  },
  {
   "cell_type": "code",
   "execution_count": 3,
   "id": "13c10479",
   "metadata": {},
   "outputs": [
    {
     "name": "stdout",
     "output_type": "stream",
     "text": [
      "['apple' 'mango' 'banana']\n",
      "<class 'list'>\n",
      "<class 'numpy.ndarray'>\n"
     ]
    }
   ],
   "source": [
    "# Array\n",
    "import numpy as np\n",
    "arr = np.array(fruits)\n",
    "print(arr)\n",
    "print(type(fruits))\n",
    "print(type(arr))"
   ]
  },
  {
   "cell_type": "markdown",
   "id": "d4cf4b82",
   "metadata": {},
   "source": [
    "### 2. Difference between Array and List"
   ]
  },
  {
   "cell_type": "code",
   "execution_count": 29,
   "id": "2052a1b1",
   "metadata": {},
   "outputs": [
    {
     "name": "stdout",
     "output_type": "stream",
     "text": [
      "[2, 'apple', 3.0]\n"
     ]
    }
   ],
   "source": [
    "fruits = [2, 'apple', 3.0]\n",
    "print(fruits)"
   ]
  },
  {
   "cell_type": "code",
   "execution_count": 30,
   "id": "df721517",
   "metadata": {},
   "outputs": [
    {
     "name": "stdout",
     "output_type": "stream",
     "text": [
      "['2' 'apple' '3.0']\n",
      "<U32\n"
     ]
    }
   ],
   "source": [
    "arr2 = np.array([2, 'apple', 3.0])\n",
    "print(arr2)\n",
    "print(arr2.dtype)"
   ]
  },
  {
   "cell_type": "markdown",
   "id": "48641ee8",
   "metadata": {},
   "source": [
    "###### Array cannot store mixed type data"
   ]
  },
  {
   "cell_type": "markdown",
   "id": "284be0ac",
   "metadata": {},
   "source": [
    "### 3. Default data types of array"
   ]
  },
  {
   "cell_type": "code",
   "execution_count": 31,
   "id": "cfb31468",
   "metadata": {},
   "outputs": [
    {
     "name": "stdout",
     "output_type": "stream",
     "text": [
      "[2 4 6]\n",
      "int32\n"
     ]
    }
   ],
   "source": [
    "arr3 = np.array([2, 4, 6])\n",
    "print(arr3)\n",
    "print(arr3.dtype)"
   ]
  },
  {
   "cell_type": "code",
   "execution_count": 32,
   "id": "06ce7903",
   "metadata": {},
   "outputs": [
    {
     "name": "stdout",
     "output_type": "stream",
     "text": [
      "[2. 4. 6.]\n",
      "float64\n"
     ]
    }
   ],
   "source": [
    "arr3 = np.array([2.0, 4.0, 6.0])\n",
    "print(arr3)\n",
    "print(arr3.dtype)"
   ]
  },
  {
   "cell_type": "markdown",
   "id": "df621a23",
   "metadata": {},
   "source": [
    "### 3. Dimension of Arrays"
   ]
  },
  {
   "cell_type": "markdown",
   "id": "b595fbc4",
   "metadata": {},
   "source": [
    "* #### 0-D Arrays\n",
    "* #### 1-D Arrays\n",
    "* #### 2-D Arrays\n",
    "* #### 3-D Arrays\n",
    "* #### N-D Arrays"
   ]
  },
  {
   "cell_type": "code",
   "execution_count": 4,
   "id": "f0ebfe4e",
   "metadata": {},
   "outputs": [
    {
     "name": "stdout",
     "output_type": "stream",
     "text": [
      "34\n",
      "Dimension: 0\n"
     ]
    }
   ],
   "source": [
    "arr1 = np.array(34)\n",
    "print(arr1)\n",
    "print('Dimension:', arr1.ndim)"
   ]
  },
  {
   "cell_type": "markdown",
   "id": "1a536e86",
   "metadata": {},
   "source": [
    "#### 1-D Arrays"
   ]
  },
  {
   "cell_type": "code",
   "execution_count": 5,
   "id": "e487e0ea",
   "metadata": {},
   "outputs": [
    {
     "name": "stdout",
     "output_type": "stream",
     "text": [
      "[10 20 30 40]\n",
      "Dimension: 1\n"
     ]
    }
   ],
   "source": [
    "arr2 = np.array([10, 20, 30, 40])\n",
    "print(arr2)\n",
    "print('Dimension:', arr2.ndim)"
   ]
  },
  {
   "cell_type": "markdown",
   "id": "514ed8f6",
   "metadata": {},
   "source": [
    "#### 2-D Arrays"
   ]
  },
  {
   "cell_type": "code",
   "execution_count": 6,
   "id": "72e7d8c2",
   "metadata": {},
   "outputs": [
    {
     "name": "stdout",
     "output_type": "stream",
     "text": [
      "[[1 2 3]\n",
      " [4 5 6]]\n",
      "Dimension: 2\n"
     ]
    }
   ],
   "source": [
    "arr3 = np.array([[1, 2, 3], [4, 5, 6]])\n",
    "print(arr3)\n",
    "print('Dimension:', arr3.ndim)"
   ]
  },
  {
   "cell_type": "markdown",
   "id": "6ae8f759",
   "metadata": {},
   "source": [
    "#### 3-D Arrays"
   ]
  },
  {
   "cell_type": "code",
   "execution_count": 7,
   "id": "a4e5644c",
   "metadata": {},
   "outputs": [
    {
     "name": "stdout",
     "output_type": "stream",
     "text": [
      "[[[1 2 3]\n",
      "  [4 5 6]]\n",
      "\n",
      " [[1 2 3]\n",
      "  [4 5 6]]]\n",
      "Dimension: 3\n"
     ]
    }
   ],
   "source": [
    "arr4 = np.array([[[1, 2, 3], [4, 5, 6]], [[1, 2, 3], [4, 5, 6]]])\n",
    "print(arr4)\n",
    "print('Dimension:', arr4.ndim)"
   ]
  },
  {
   "cell_type": "markdown",
   "id": "a2870ded",
   "metadata": {},
   "source": [
    "### 4. Specifying data types of Array"
   ]
  },
  {
   "cell_type": "code",
   "execution_count": 40,
   "id": "385161a0",
   "metadata": {},
   "outputs": [
    {
     "name": "stdout",
     "output_type": "stream",
     "text": [
      "[2 4 6]\n",
      "int8\n"
     ]
    }
   ],
   "source": [
    "arr3 = np.array([2.9, 4.0, 6.0], dtype = 'int8')\n",
    "print(arr3)\n",
    "print(arr3.dtype)"
   ]
  },
  {
   "cell_type": "code",
   "execution_count": 41,
   "id": "c5303e73",
   "metadata": {},
   "outputs": [
    {
     "name": "stdout",
     "output_type": "stream",
     "text": [
      "[-104   10   90]\n",
      "int8\n"
     ]
    }
   ],
   "source": [
    "arr3 = np.array([152, 10, 90], dtype = 'int8')\n",
    "print(arr3)\n",
    "print(arr3.dtype)"
   ]
  },
  {
   "cell_type": "code",
   "execution_count": 42,
   "id": "fe00bf2b",
   "metadata": {},
   "outputs": [
    {
     "name": "stdout",
     "output_type": "stream",
     "text": [
      "[152  10  90]\n",
      "int16\n"
     ]
    }
   ],
   "source": [
    "arr3 = np.array([152, 10, 90], dtype = 'int16')\n",
    "print(arr3)\n",
    "print(arr3.dtype)"
   ]
  },
  {
   "cell_type": "markdown",
   "id": "0dcc4f4b",
   "metadata": {},
   "source": [
    "### 4. Array Attributes"
   ]
  },
  {
   "cell_type": "code",
   "execution_count": 11,
   "id": "547363af",
   "metadata": {},
   "outputs": [
    {
     "name": "stdout",
     "output_type": "stream",
     "text": [
      "[[1 2 3]\n",
      " [4 5 6]]\n",
      "Shape: (2, 3)\n"
     ]
    }
   ],
   "source": [
    "# Shape of array\n",
    "arr3 = np.array([[1, 2, 3], [4, 5, 6]])\n",
    "print(arr3)\n",
    "print('Shape:', arr3.shape)"
   ]
  },
  {
   "cell_type": "code",
   "execution_count": 12,
   "id": "ddf04f2c",
   "metadata": {},
   "outputs": [
    {
     "name": "stdout",
     "output_type": "stream",
     "text": [
      "[[1 2 3]\n",
      " [4 5 6]]\n",
      "Size: 6\n"
     ]
    }
   ],
   "source": [
    "# size of array\n",
    "arr3 = np.array([[1, 2, 3], [4, 5, 6]])\n",
    "print(arr3)\n",
    "print('Size:', arr3.size)"
   ]
  },
  {
   "cell_type": "code",
   "execution_count": 13,
   "id": "748a04d5",
   "metadata": {},
   "outputs": [
    {
     "name": "stdout",
     "output_type": "stream",
     "text": [
      "[152  10  90]\n",
      "Itemsize: 2\n"
     ]
    }
   ],
   "source": [
    "# itemsize\n",
    "arr3 = np.array([152, 10, 90], dtype = 'int16')\n",
    "print(arr3)\n",
    "print('Itemsize:', arr3.itemsize)"
   ]
  },
  {
   "cell_type": "markdown",
   "id": "b53b62d3",
   "metadata": {},
   "source": [
    "### 5. Accessing elements"
   ]
  },
  {
   "cell_type": "code",
   "execution_count": 54,
   "id": "be18dc09",
   "metadata": {},
   "outputs": [
    {
     "name": "stdout",
     "output_type": "stream",
     "text": [
      "cherry\n",
      "mango\n",
      "['banana' 'cherry' 'mango']\n"
     ]
    }
   ],
   "source": [
    "arr3 = np.array(['apple', 'banana', 'cherry', 'mango', 'orange'])\n",
    "print(arr3[2])\n",
    "print(arr3[-2])\n",
    "print(arr3[1:4])"
   ]
  },
  {
   "cell_type": "code",
   "execution_count": 66,
   "id": "afb73739",
   "metadata": {},
   "outputs": [
    {
     "name": "stdout",
     "output_type": "stream",
     "text": [
      "[[10 20 30]\n",
      " [40 50 60]]\n",
      "--------------------\n",
      "[[20 30]\n",
      " [50 60]]\n"
     ]
    }
   ],
   "source": [
    "# accessing elements of 2D array\n",
    "arr3 = np.array([[10, 20, 30], [40, 50, 60]])\n",
    "print(arr3)\n",
    "print('--------------------')\n",
    "print(arr3[0:2, 1:])"
   ]
  },
  {
   "cell_type": "markdown",
   "id": "dc8a5fbc",
   "metadata": {},
   "source": [
    "### 6. Creation Routines"
   ]
  },
  {
   "cell_type": "markdown",
   "id": "d04ea206",
   "metadata": {},
   "source": [
    "* #### Empty"
   ]
  },
  {
   "cell_type": "code",
   "execution_count": 2,
   "id": "ce3550f1",
   "metadata": {},
   "outputs": [
    {
     "name": "stdout",
     "output_type": "stream",
     "text": [
      "[[-537329408        545    5570638]\n",
      " [   6225997    4718676    4522066]\n",
      " [   4456513         83          0]]\n"
     ]
    }
   ],
   "source": [
    "arr = np.empty([3,3], dtype = 'int')\n",
    "print(arr)"
   ]
  },
  {
   "cell_type": "code",
   "execution_count": 4,
   "id": "1fcba86b",
   "metadata": {},
   "outputs": [
    {
     "name": "stdout",
     "output_type": "stream",
     "text": [
      "[[0.00000000e+000 0.00000000e+000 0.00000000e+000]\n",
      " [0.00000000e+000 0.00000000e+000 7.11454530e-321]\n",
      " [5.08566454e-028 4.11366171e+223 1.02303531e+200]]\n"
     ]
    }
   ],
   "source": [
    "arr2 = np.empty([3,3], dtype = 'float')\n",
    "print(arr2)"
   ]
  },
  {
   "cell_type": "markdown",
   "id": "a5a32844",
   "metadata": {},
   "source": [
    "* #### Zeros"
   ]
  },
  {
   "cell_type": "code",
   "execution_count": 7,
   "id": "e7a4e8ee",
   "metadata": {},
   "outputs": [
    {
     "name": "stdout",
     "output_type": "stream",
     "text": [
      "[[0. 0. 0.]\n",
      " [0. 0. 0.]\n",
      " [0. 0. 0.]]\n"
     ]
    }
   ],
   "source": [
    "arr = np.zeros([3, 3] )\n",
    "print(arr)"
   ]
  },
  {
   "cell_type": "markdown",
   "id": "8f2b555c",
   "metadata": {},
   "source": [
    "* #### Ones"
   ]
  },
  {
   "cell_type": "code",
   "execution_count": 10,
   "id": "896c1b5b",
   "metadata": {},
   "outputs": [
    {
     "name": "stdout",
     "output_type": "stream",
     "text": [
      "[[1. 1.]\n",
      " [1. 1.]]\n"
     ]
    }
   ],
   "source": [
    "# numpy.ones(shape,dtype)\n",
    "x = np.ones([2,2])\n",
    "print(x)"
   ]
  },
  {
   "cell_type": "markdown",
   "id": "0242141b",
   "metadata": {},
   "source": [
    "* #### Eye"
   ]
  },
  {
   "cell_type": "code",
   "execution_count": 15,
   "id": "ef89d5e4",
   "metadata": {},
   "outputs": [
    {
     "name": "stdout",
     "output_type": "stream",
     "text": [
      "[[0. 0. 1. 0.]\n",
      " [0. 0. 0. 1.]\n",
      " [0. 0. 0. 0.]\n",
      " [0. 0. 0. 0.]]\n"
     ]
    }
   ],
   "source": [
    "# eye\n",
    "arr  = np.eye(4, k = 2)\n",
    "print(arr)"
   ]
  },
  {
   "cell_type": "code",
   "execution_count": 19,
   "id": "6dbde3f7",
   "metadata": {},
   "outputs": [
    {
     "name": "stdout",
     "output_type": "stream",
     "text": [
      "[[1 0 0 0]\n",
      " [0 1 0 0]\n",
      " [0 0 1 0]\n",
      " [0 0 0 1]]\n"
     ]
    }
   ],
   "source": [
    "arr = np.identity(4, dtype='int')\n",
    "print(arr)"
   ]
  },
  {
   "cell_type": "code",
   "execution_count": 24,
   "id": "5c3d0377",
   "metadata": {},
   "outputs": [
    {
     "name": "stdout",
     "output_type": "stream",
     "text": [
      "[ 10  15  20  25  30  35  40  45  50  55  60  65  70  75  80  85  90  95\n",
      " 100]\n"
     ]
    }
   ],
   "source": [
    "# arange\n",
    "arr = np.arange(10, 105, 5)\n",
    "print(arr)"
   ]
  },
  {
   "cell_type": "code",
   "execution_count": 27,
   "id": "3e298193",
   "metadata": {},
   "outputs": [
    {
     "name": "stdout",
     "output_type": "stream",
     "text": [
      "[ 10  15  20  25  30  35  40  45  50  55  60  65  70  75  80  85  90  95\n",
      " 100]\n"
     ]
    }
   ],
   "source": [
    "li = range(10, 105, 5)\n",
    "arr  = np.array(li)\n",
    "print(arr)"
   ]
  },
  {
   "cell_type": "code",
   "execution_count": 35,
   "id": "cc165f7d",
   "metadata": {},
   "outputs": [
    {
     "name": "stdout",
     "output_type": "stream",
     "text": [
      "[1 2]\n",
      "[[1 2]]\n"
     ]
    }
   ],
   "source": [
    "x = np.array([1,2])\n",
    "print(x)\n",
    "x = np.asmatrix(x)\n",
    "print(x)\n"
   ]
  },
  {
   "cell_type": "markdown",
   "id": "1933516c",
   "metadata": {},
   "source": [
    "### Arthimetic Operation"
   ]
  },
  {
   "cell_type": "code",
   "execution_count": 40,
   "id": "78d27fe3",
   "metadata": {},
   "outputs": [
    {
     "name": "stdout",
     "output_type": "stream",
     "text": [
      "[ 3  9 12 10]\n",
      "-----------------\n",
      "[ 3  9 12 10]\n"
     ]
    }
   ],
   "source": [
    "# addition\n",
    "arr1 = np.array([2,4,6,8])\n",
    "arr2 = np.array([1,5,6,2])\n",
    "print(arr1 + arr2)\n",
    "print('-----------------')\n",
    "print(np.add(arr1, arr2))"
   ]
  },
  {
   "cell_type": "code",
   "execution_count": 41,
   "id": "cfa85657",
   "metadata": {},
   "outputs": [
    {
     "name": "stdout",
     "output_type": "stream",
     "text": [
      "[ 1 -1  0  6]\n",
      "-----------------\n",
      "[ 1 -1  0  6]\n"
     ]
    }
   ],
   "source": [
    "# subtraction\n",
    "arr1 = np.array([2,4,6,8])\n",
    "arr2 = np.array([1,5,6,2])\n",
    "print(arr1 - arr2)\n",
    "print('-----------------')\n",
    "print(np.subtract(arr1, arr2))"
   ]
  },
  {
   "cell_type": "code",
   "execution_count": 42,
   "id": "793b29f6",
   "metadata": {},
   "outputs": [
    {
     "name": "stdout",
     "output_type": "stream",
     "text": [
      "[ 2 20 36 16]\n",
      "-----------------\n",
      "[ 2 20 36 16]\n"
     ]
    }
   ],
   "source": [
    "# multiplication\n",
    "arr1 = np.array([2,4,6,8])\n",
    "arr2 = np.array([1,5,6,2])\n",
    "print(arr1 * arr2)\n",
    "print('-----------------')\n",
    "print(np.multiply(arr1, arr2))"
   ]
  },
  {
   "cell_type": "code",
   "execution_count": 52,
   "id": "f46a7e33",
   "metadata": {},
   "outputs": [
    {
     "name": "stdout",
     "output_type": "stream",
     "text": [
      "(4,)\n",
      "[2 4 6 8]\n",
      "-----------------\n",
      "[[1 5 6 2]\n",
      " [1 3 5 7]\n",
      " [1 4 6 8]\n",
      " [1 3 4 4]]\n",
      "(4, 4)\n",
      "[ 20  70 100 112]\n"
     ]
    }
   ],
   "source": [
    "arr1 = np.array([2,4,6,8])\n",
    "print(arr1.shape)\n",
    "print(arr1)\n",
    "print('-----------------')\n",
    "arr2 = np.array([[1,5,6,2], [1,3,5,7], [1,4,6,8], [1,3,4,4]])\n",
    "print(arr2)\n",
    "print(arr2.shape)\n",
    "print(np.matmul(arr1, arr2))"
   ]
  },
  {
   "cell_type": "code",
   "execution_count": 54,
   "id": "6ac0d867",
   "metadata": {},
   "outputs": [
    {
     "name": "stdout",
     "output_type": "stream",
     "text": [
      "[2.  0.8 1.  4. ]\n",
      "-----------------\n",
      "[2.  0.8 1.  4. ]\n"
     ]
    }
   ],
   "source": [
    "# Division\n",
    "arr1 = np.array([2,4,6,8])\n",
    "arr2 = np.array([1,5,6,2])\n",
    "print(arr1 / arr2)\n",
    "print('-----------------')\n",
    "print(np.divide(arr1, arr2))"
   ]
  },
  {
   "cell_type": "code",
   "execution_count": 57,
   "id": "ce03b009",
   "metadata": {},
   "outputs": [
    {
     "name": "stdout",
     "output_type": "stream",
     "text": [
      "[0 4 0 0]\n",
      "-----------------\n",
      "[0 4 0 0]\n",
      "[0 4 0 0]\n"
     ]
    }
   ],
   "source": [
    "# mod\n",
    "arr1 = np.array([2,4,6,8])\n",
    "arr2 = np.array([1,5,6,2])\n",
    "print(arr1 % arr2)\n",
    "print('-----------------')\n",
    "print(np.mod(arr1, arr2))\n",
    "print(np.remainder(arr1, arr2))"
   ]
  },
  {
   "cell_type": "code",
   "execution_count": 58,
   "id": "618a8fd0",
   "metadata": {},
   "outputs": [
    {
     "name": "stdout",
     "output_type": "stream",
     "text": [
      "[ True False False  True]\n",
      "-----------------\n",
      "[ True False False  True]\n"
     ]
    }
   ],
   "source": [
    "# greater\n",
    "arr1 = np.array([2,4,6,8])\n",
    "arr2 = np.array([1,5,6,2])\n",
    "print(arr1 > arr2)\n",
    "print('-----------------')\n",
    "print(np.greater(arr1, arr2))"
   ]
  },
  {
   "cell_type": "code",
   "execution_count": 59,
   "id": "7790b578",
   "metadata": {},
   "outputs": [
    {
     "name": "stdout",
     "output_type": "stream",
     "text": [
      "[False  True False False]\n",
      "-----------------\n",
      "[False  True False False]\n"
     ]
    }
   ],
   "source": [
    "# greater\n",
    "arr1 = np.array([2,4,6,8])\n",
    "arr2 = np.array([1,5,6,2])\n",
    "print(arr1 < arr2)\n",
    "print('-----------------')\n",
    "print(np.less(arr1, arr2))"
   ]
  },
  {
   "cell_type": "code",
   "execution_count": 60,
   "id": "fe558685",
   "metadata": {},
   "outputs": [
    {
     "name": "stdout",
     "output_type": "stream",
     "text": [
      "[[ 8  7  1  2]\n",
      " [ 3  2  3  1]\n",
      " [29 32 11  9]]\n",
      "----------------\n",
      "Sorted Array : \n",
      "[[ 3  2  1  1]\n",
      " [ 8  7  3  2]\n",
      " [29 32 11  9]]\n"
     ]
    }
   ],
   "source": [
    "arr2D = np.array([[8, 7, 1, 2], [3, 2, 3, 1],\n",
    "[29, 32, 11, 9]])\n",
    "print(arr2D)\n",
    "print('----------------')\n",
    "arr2D.sort(axis=0)\n",
    "print('Sorted Array : ')\n",
    "print(arr2D)"
   ]
  },
  {
   "cell_type": "code",
   "execution_count": 67,
   "id": "6f8c8ae0",
   "metadata": {},
   "outputs": [
    {
     "name": "stdout",
     "output_type": "stream",
     "text": [
      "[[ 8  7  1  2]\n",
      " [ 3  2  3  1]\n",
      " [29 32 11  9]]\n",
      "----------------\n",
      "Sorted Array : \n",
      "[[ 3  2  1  1]\n",
      " [ 8  7  3  2]\n",
      " [29 32 11  9]]\n"
     ]
    }
   ],
   "source": [
    "arr2D = np.array([[8, 7, 1, 2], [3, 2, 3, 1],\n",
    "[29, 32, 11, 9]])\n",
    "print(arr2D)\n",
    "print('----------------')\n",
    "arr2D.sort(axis=0)\n",
    "print('Sorted Array : ')\n",
    "print(arr2D)"
   ]
  }
 ],
 "metadata": {
  "kernelspec": {
   "display_name": "Python 3 (ipykernel)",
   "language": "python",
   "name": "python3"
  },
  "language_info": {
   "codemirror_mode": {
    "name": "ipython",
    "version": 3
   },
   "file_extension": ".py",
   "mimetype": "text/x-python",
   "name": "python",
   "nbconvert_exporter": "python",
   "pygments_lexer": "ipython3",
   "version": "3.12.1"
  }
 },
 "nbformat": 4,
 "nbformat_minor": 5
}
